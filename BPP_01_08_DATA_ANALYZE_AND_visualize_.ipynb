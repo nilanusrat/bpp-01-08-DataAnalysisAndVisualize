{
  "nbformat": 4,
  "nbformat_minor": 0,
  "metadata": {
    "colab": {
      "provenance": [],
      "authorship_tag": "ABX9TyMQn3Re9j4taes5Dlj+Krj1",
      "include_colab_link": true
    },
    "kernelspec": {
      "name": "python3",
      "display_name": "Python 3"
    },
    "language_info": {
      "name": "python"
    }
  },
  "cells": [
    {
      "cell_type": "markdown",
      "metadata": {
        "id": "view-in-github",
        "colab_type": "text"
      },
      "source": [
        "<a href=\"https://colab.research.google.com/github/nilanusrat/bpp-01-08-DataAnalysisAndVisualize/blob/main/BPP_01_08_DATA_ANALYZE_AND_visualize_.ipynb\" target=\"_parent\"><img src=\"https://colab.research.google.com/assets/colab-badge.svg\" alt=\"Open In Colab\"/></a>"
      ]
    },
    {
      "cell_type": "code",
      "execution_count": 3,
      "metadata": {
        "colab": {
          "base_uri": "https://localhost:8080/"
        },
        "id": "_9OrkS64Wbql",
        "outputId": "2a636564-9bf2-4938-9c11-a889a05cd853"
      },
      "outputs": [
        {
          "output_type": "stream",
          "name": "stdout",
          "text": [
            "--2024-12-20 14:03:26--  https://raw.githubusercontent.com/Abdullahfoysal/pp11-Project-AnalyzeAndVisualize/refs/heads/main/student_data.csv\n",
            "Resolving raw.githubusercontent.com (raw.githubusercontent.com)... 185.199.108.133, 185.199.109.133, 185.199.110.133, ...\n",
            "Connecting to raw.githubusercontent.com (raw.githubusercontent.com)|185.199.108.133|:443... connected.\n",
            "HTTP request sent, awaiting response... 200 OK\n",
            "Length: 133023 (130K) [text/plain]\n",
            "Saving to: ‘student_data.csv.2’\n",
            "\n",
            "\rstudent_data.csv.2    0%[                    ]       0  --.-KB/s               \rstudent_data.csv.2  100%[===================>] 129.91K  --.-KB/s    in 0.03s   \n",
            "\n",
            "2024-12-20 14:03:26 (4.63 MB/s) - ‘student_data.csv.2’ saved [133023/133023]\n",
            "\n"
          ]
        }
      ],
      "source": [
        "!wget https://raw.githubusercontent.com/Abdullahfoysal/pp11-Project-AnalyzeAndVisualize/refs/heads/main/student_data.csv"
      ]
    },
    {
      "cell_type": "code",
      "source": [],
      "metadata": {
        "id": "_E9LQLdLW5iD"
      },
      "execution_count": null,
      "outputs": []
    }
  ]
}